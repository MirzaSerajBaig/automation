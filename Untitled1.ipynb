{
 "cells": [
  {
   "cell_type": "code",
   "execution_count": 1,
   "id": "8075a758",
   "metadata": {},
   "outputs": [
    {
     "name": "stdout",
     "output_type": "stream",
     "text": [
      "Hello everyone\n"
     ]
    }
   ],
   "source": [
    "def hello_world():\n",
    "    print(\"Hello everyone\")\n",
    "    \n",
    "    \n",
    "    \n",
    "hello_world()"
   ]
  },
  {
   "cell_type": "code",
   "execution_count": 2,
   "id": "086644dc",
   "metadata": {},
   "outputs": [
    {
     "name": "stdout",
     "output_type": "stream",
     "text": [
      "Hello everyone\n"
     ]
    }
   ],
   "source": [
    "def a():\n",
    "    print(\"Hello everyone\")\n",
    "    \n",
    "    \n",
    "    \n",
    "a()"
   ]
  },
  {
   "cell_type": "code",
   "execution_count": 6,
   "id": "7e33c911",
   "metadata": {},
   "outputs": [
    {
     "name": "stdout",
     "output_type": "stream",
     "text": [
      "enter number23\n",
      "my number is 23\n"
     ]
    }
   ],
   "source": [
    "def abc(name):\n",
    "    print(\"my number is\",name)\n",
    "name=int(input(\"enter number\"))\n",
    "abc(name)\n"
   ]
  },
  {
   "cell_type": "code",
   "execution_count": 7,
   "id": "ebb7fe2a",
   "metadata": {},
   "outputs": [
    {
     "name": "stdout",
     "output_type": "stream",
     "text": [
      "enter number12\n",
      "my number is 12\n"
     ]
    }
   ],
   "source": [
    "def abc(name):\n",
    "    print(\"my number is\",name)\n",
    "    \n",
    "    \n",
    "    \n",
    "p=int(input(\"enter number\"))\n",
    "abc(p)"
   ]
  },
  {
   "cell_type": "code",
   "execution_count": 10,
   "id": "0445973a",
   "metadata": {},
   "outputs": [
    {
     "name": "stdout",
     "output_type": "stream",
     "text": [
      "enter your pizza cost12\n",
      "enter topping amount22\n",
      "enter delivery charges33\n",
      "enter crust price44\n",
      "My total pizza cost is: 111\n"
     ]
    }
   ],
   "source": [
    "def pizza():\n",
    "    price=int(input(\"enter your pizza cost\"))\n",
    "    top=int(input(\"enter topping amount\"))\n",
    "    dev=int(input(\"enter delivery charges\"))\n",
    "    crust=int(input(\"enter crust price\"))\n",
    "    total=price+top+dev+crust\n",
    "    print(\"My total pizza cost is:\",total)\n",
    "    \n",
    "    \n",
    "    \n",
    "\n",
    "pizza()    \n",
    "    \n",
    "    "
   ]
  },
  {
   "cell_type": "code",
   "execution_count": 14,
   "id": "56390b06",
   "metadata": {},
   "outputs": [
    {
     "name": "stdout",
     "output_type": "stream",
     "text": [
      "Enter currencyINR\n",
      "Country is India\n"
     ]
    }
   ],
   "source": [
    "def Guessthecountry(cur):\n",
    "    if cur ==\"GBP\":\n",
    "        print(\"Country is UK\")\n",
    "    elif cur ==\"USD\":\n",
    "        print(\"Country is Us\")\n",
    "    elif cur ==\"INR\":\n",
    "        print(\"Country is India\")\n",
    "    elif cur ==\"Taka\":\n",
    "        print(\"Country is bangladesh\")\n",
    "    else:\n",
    "        print(\"wrong selection\")\n",
    "\n",
    "cur=(input(\"Enter currency\"))\n",
    "Guessthecountry(cur)"
   ]
  },
  {
   "cell_type": "code",
   "execution_count": 15,
   "id": "756e2d22",
   "metadata": {},
   "outputs": [
    {
     "name": "stdout",
     "output_type": "stream",
     "text": [
      "Enter price of product 112\n",
      "Enter price of product 244\n",
      "Total amount is: 56\n"
     ]
    }
   ],
   "source": [
    "def sum1(product1,product2):\n",
    "    total=product1+product2\n",
    "    print(\"Total amount is:\",total)\n",
    "    \n",
    "p1=int(input(\"Enter price of product 1\"))\n",
    "p2=int(input(\"Enter price of product 2\"))\n",
    "sum1(p1,p2)"
   ]
  },
  {
   "cell_type": "code",
   "execution_count": 18,
   "id": "1324e6db",
   "metadata": {},
   "outputs": [
    {
     "name": "stdout",
     "output_type": "stream",
     "text": [
      "Enter any stringnikkkkkkk\n",
      "k\n"
     ]
    }
   ],
   "source": [
    "def s(a):\n",
    "    t= a[3]\n",
    "    print(t)\n",
    "    \n",
    "a=(input(\"Enter any string\"))\n",
    "\n",
    "s(a)"
   ]
  },
  {
   "cell_type": "code",
   "execution_count": 19,
   "id": "65427bf5",
   "metadata": {},
   "outputs": [
    {
     "name": "stdout",
     "output_type": "stream",
     "text": [
      "3\n"
     ]
    }
   ],
   "source": [
    "list1=[\"cat\",\"dog\",\"pet\",\"cow\"]\n",
    "print(list1.index(\"cow\"))"
   ]
  },
  {
   "cell_type": "code",
   "execution_count": 20,
   "id": "c359ee2c",
   "metadata": {},
   "outputs": [
    {
     "name": "stdout",
     "output_type": "stream",
     "text": [
      "3\n"
     ]
    }
   ],
   "source": [
    "def ind():\n",
    "    list1=[\"cat\",\"dog\",\"pet\",\"cow\"]\n",
    "    print(list1.index(\"cow\"))\n",
    "ind()"
   ]
  },
  {
   "cell_type": "code",
   "execution_count": 22,
   "id": "69fff648",
   "metadata": {},
   "outputs": [
    {
     "name": "stdout",
     "output_type": "stream",
     "text": [
      "2\n"
     ]
    }
   ],
   "source": [
    "def ind(list1):\n",
    "    print(list1.index(\"pet\"))\n",
    "    \n",
    "    \n",
    "list1=[\"cat\",\"dog\",\"pet\",\"cow\"]\n",
    "ind(list1)"
   ]
  },
  {
   "cell_type": "code",
   "execution_count": 36,
   "id": "57ffc29f",
   "metadata": {},
   "outputs": [
    {
     "name": "stdout",
     "output_type": "stream",
     "text": [
      "2\n",
      "3\n",
      "5\n",
      "7\n",
      "11\n",
      "13\n",
      "17\n",
      "19\n",
      "23\n",
      "29\n",
      "31\n",
      "37\n",
      "41\n",
      "43\n",
      "47\n",
      "53\n",
      "59\n",
      "61\n",
      "67\n",
      "71\n",
      "73\n",
      "79\n",
      "83\n",
      "89\n",
      "97\n",
      "101\n"
     ]
    }
   ],
   "source": [
    "def prime(l,u):\n",
    "\n",
    " for num in range(l,u):\n",
    "    if num>1:\n",
    "        for i in range(2,num):\n",
    "            if (num% i ==0):\n",
    "                break\n",
    "        else: \n",
    "            print(num)\n",
    "\n",
    "\n",
    "l=1\n",
    "u=102\n",
    "prime(l,u)"
   ]
  },
  {
   "cell_type": "code",
   "execution_count": 33,
   "id": "eb08fff0",
   "metadata": {},
   "outputs": [
    {
     "name": "stdout",
     "output_type": "stream",
     "text": [
      "8\n"
     ]
    }
   ],
   "source": [
    "a=2**3\n",
    "print(a)"
   ]
  },
  {
   "cell_type": "code",
   "execution_count": 45,
   "id": "a3f85045",
   "metadata": {},
   "outputs": [],
   "source": [
    "def prime(num):\n",
    " if num>1:\n",
    "    for i in range(2,num):\n",
    "        if (num% i ==0):\n",
    "                break\n",
    "    else: \n",
    "        print(\"Number is prime number:\",num)\n",
    "\n",
    "\n",
    "n=10\n",
    "prime(n)"
   ]
  },
  {
   "cell_type": "code",
   "execution_count": 47,
   "id": "0f2441a6",
   "metadata": {},
   "outputs": [
    {
     "name": "stdout",
     "output_type": "stream",
     "text": [
      "Nik Jain\n"
     ]
    }
   ],
   "source": [
    "def a(f,s):\n",
    "    c=f+s\n",
    "    return c\n",
    "\n",
    "f=\"Nik \"\n",
    "s=\"Jain\"\n",
    "p=a(f,s)\n",
    "print(p)"
   ]
  },
  {
   "cell_type": "code",
   "execution_count": null,
   "id": "5ae1d379",
   "metadata": {},
   "outputs": [],
   "source": []
  }
 ],
 "metadata": {
  "kernelspec": {
   "display_name": "Python 3 (ipykernel)",
   "language": "python",
   "name": "python3"
  },
  "language_info": {
   "codemirror_mode": {
    "name": "ipython",
    "version": 3
   },
   "file_extension": ".py",
   "mimetype": "text/x-python",
   "name": "python",
   "nbconvert_exporter": "python",
   "pygments_lexer": "ipython3",
   "version": "3.9.12"
  }
 },
 "nbformat": 4,
 "nbformat_minor": 5
}
