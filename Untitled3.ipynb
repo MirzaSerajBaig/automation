{
 "cells": [
  {
   "cell_type": "code",
   "execution_count": 21,
   "id": "023bf39b",
   "metadata": {},
   "outputs": [
    {
     "data": {
      "text/plain": [
       "001    book\n",
       "2       bag\n",
       "3       car\n",
       "4       toy\n",
       "dtype: object"
      ]
     },
     "execution_count": 21,
     "metadata": {},
     "output_type": "execute_result"
    }
   ],
   "source": [
    "import pandas as pd\n",
    "a=[\"book\",\"bag\",\"car\",\"toy\"]\n",
    "myvar=pd.Series(a,index=[\"001\",2,3,4])\n",
    "myvar"
   ]
  },
  {
   "cell_type": "code",
   "execution_count": 7,
   "id": "9759ce24",
   "metadata": {},
   "outputs": [
    {
     "data": {
      "text/plain": [
       "Day1    420\n",
       "day2    380\n",
       "day3    390\n",
       "dtype: int64"
      ]
     },
     "execution_count": 7,
     "metadata": {},
     "output_type": "execute_result"
    }
   ],
   "source": [
    "calories={\"Day1\":420,\"day2\":380,\"day3\":390}\n",
    "myvar=pd.Series(calories)\n",
    "myvar"
   ]
  },
  {
   "cell_type": "code",
   "execution_count": 9,
   "id": "d55a9415",
   "metadata": {},
   "outputs": [
    {
     "data": {
      "text/html": [
       "<div>\n",
       "<style scoped>\n",
       "    .dataframe tbody tr th:only-of-type {\n",
       "        vertical-align: middle;\n",
       "    }\n",
       "\n",
       "    .dataframe tbody tr th {\n",
       "        vertical-align: top;\n",
       "    }\n",
       "\n",
       "    .dataframe thead th {\n",
       "        text-align: right;\n",
       "    }\n",
       "</style>\n",
       "<table border=\"1\" class=\"dataframe\">\n",
       "  <thead>\n",
       "    <tr style=\"text-align: right;\">\n",
       "      <th></th>\n",
       "      <th>Days</th>\n",
       "      <th>duration</th>\n",
       "    </tr>\n",
       "  </thead>\n",
       "  <tbody>\n",
       "    <tr>\n",
       "      <th>0</th>\n",
       "      <td>420</td>\n",
       "      <td>10</td>\n",
       "    </tr>\n",
       "    <tr>\n",
       "      <th>1</th>\n",
       "      <td>380</td>\n",
       "      <td>2</td>\n",
       "    </tr>\n",
       "    <tr>\n",
       "      <th>2</th>\n",
       "      <td>390</td>\n",
       "      <td>3</td>\n",
       "    </tr>\n",
       "  </tbody>\n",
       "</table>\n",
       "</div>"
      ],
      "text/plain": [
       "   Days  duration\n",
       "0   420        10\n",
       "1   380         2\n",
       "2   390         3"
      ]
     },
     "execution_count": 9,
     "metadata": {},
     "output_type": "execute_result"
    }
   ],
   "source": [
    "calories={\"Days\":[420,380,390],\n",
    "          \"duration\":[10,2,3]}\n",
    "myvar=pd.DataFrame(calories)\n",
    "myvar"
   ]
  },
  {
   "cell_type": "code",
   "execution_count": 17,
   "id": "cb1ba01d",
   "metadata": {},
   "outputs": [
    {
     "name": "stdout",
     "output_type": "stream",
     "text": [
      "Days        420\n",
      "duration     10\n",
      "Name: 0, dtype: int64\n"
     ]
    }
   ],
   "source": [
    "print(myvar.iloc[0])"
   ]
  },
  {
   "cell_type": "code",
   "execution_count": 23,
   "id": "46a36c3c",
   "metadata": {},
   "outputs": [
    {
     "data": {
      "text/plain": [
       "array([1, 2, 3, 4, 5, 6])"
      ]
     },
     "execution_count": 23,
     "metadata": {},
     "output_type": "execute_result"
    }
   ],
   "source": [
    "import numpy as np\n",
    "arr=np.array([1,2,3,4,5,6])\n",
    "arr"
   ]
  },
  {
   "cell_type": "code",
   "execution_count": 24,
   "id": "9152e3cc",
   "metadata": {},
   "outputs": [
    {
     "data": {
      "text/plain": [
       "array(1)"
      ]
     },
     "execution_count": 24,
     "metadata": {},
     "output_type": "execute_result"
    }
   ],
   "source": [
    "import numpy as np\n",
    "arr=np.array(1)\n",
    "arr"
   ]
  },
  {
   "cell_type": "code",
   "execution_count": 32,
   "id": "3120b5b9",
   "metadata": {},
   "outputs": [
    {
     "data": {
      "text/plain": [
       "1"
      ]
     },
     "execution_count": 32,
     "metadata": {},
     "output_type": "execute_result"
    }
   ],
   "source": [
    "import numpy as np\n",
    "arr=np.array([1,11,33,44,55,66,77])\n",
    "arr[0]"
   ]
  },
  {
   "cell_type": "code",
   "execution_count": 48,
   "id": "b906f10f",
   "metadata": {},
   "outputs": [
    {
     "data": {
      "text/plain": [
       "array([11, 22, 33, 44, 55, 66, 77,  7])"
      ]
     },
     "execution_count": 48,
     "metadata": {},
     "output_type": "execute_result"
    }
   ],
   "source": [
    "import numpy as np\n",
    "arr=np.array([[1,11,33,44,55,66,77],[11,22,33,44,55,66,77],[11,22,33,44,55,66,77]])\n",
    "p=np.append(arr[1:2],7)\n",
    "p"
   ]
  },
  {
   "cell_type": "code",
   "execution_count": 30,
   "id": "b1d4ba81",
   "metadata": {},
   "outputs": [
    {
     "data": {
      "text/plain": [
       "array([ 1, 11, 33, 44, 55, 66, 77])"
      ]
     },
     "execution_count": 30,
     "metadata": {},
     "output_type": "execute_result"
    }
   ],
   "source": [
    "arr[0]"
   ]
  },
  {
   "cell_type": "code",
   "execution_count": 43,
   "id": "a09f0384",
   "metadata": {},
   "outputs": [
    {
     "data": {
      "text/plain": [
       "array([ 1, 11, 33, 44, 55, 66, 77,  1, 22, 88, 77, 66, 55, 33])"
      ]
     },
     "execution_count": 43,
     "metadata": {},
     "output_type": "execute_result"
    }
   ],
   "source": [
    "arr=np.array([1,11,33,44,55,66,77])\n",
    "arr\n",
    "arr2=np.array([1,22,88,77,66,55,33])\n",
    "arr2\n",
    "p=np.concatenate((arr,arr2))\n",
    "p"
   ]
  },
  {
   "cell_type": "code",
   "execution_count": 40,
   "id": "ca77d234",
   "metadata": {},
   "outputs": [
    {
     "name": "stdout",
     "output_type": "stream",
     "text": [
      "[   1  242 2904 3388 3630 3630 2541]\n"
     ]
    }
   ],
   "source": [
    "print(arr*arr2)"
   ]
  },
  {
   "cell_type": "code",
   "execution_count": 39,
   "id": "5d668944",
   "metadata": {},
   "outputs": [
    {
     "name": "stdout",
     "output_type": "stream",
     "text": [
      "2541\n"
     ]
    }
   ],
   "source": [
    "print(arr[2]*arr2[3])"
   ]
  },
  {
   "cell_type": "code",
   "execution_count": 38,
   "id": "e3bc9f4b",
   "metadata": {},
   "outputs": [
    {
     "name": "stdout",
     "output_type": "stream",
     "text": [
      "Nikanksha Nikanksha Nikanksha \n"
     ]
    }
   ],
   "source": [
    "a=\"Nikanksha \"\n",
    "print(a*3)"
   ]
  },
  {
   "cell_type": "code",
   "execution_count": 41,
   "id": "4f50bf2e",
   "metadata": {},
   "outputs": [
    {
     "name": "stdout",
     "output_type": "stream",
     "text": [
      "21\n"
     ]
    }
   ],
   "source": [
    "a=10\n",
    "b=11\n",
    "print(a+b)"
   ]
  },
  {
   "cell_type": "code",
   "execution_count": 42,
   "id": "dc8c7ea6",
   "metadata": {},
   "outputs": [
    {
     "name": "stdout",
     "output_type": "stream",
     "text": [
      "aaaffff\n"
     ]
    }
   ],
   "source": [
    "a=\"aaa\"\n",
    "b=\"ffff\"\n",
    "print(a+b)"
   ]
  },
  {
   "cell_type": "code",
   "execution_count": 46,
   "id": "47035c64",
   "metadata": {},
   "outputs": [
    {
     "data": {
      "text/plain": [
       "array([ 1, 11, 33, 44, 55, 66, 77,  7])"
      ]
     },
     "execution_count": 46,
     "metadata": {},
     "output_type": "execute_result"
    }
   ],
   "source": [
    "arr=np.array([1,11,33,44,55,66,77])\n",
    "p=np.append(arr,7)\n",
    "p"
   ]
  },
  {
   "cell_type": "code",
   "execution_count": 50,
   "id": "fe2beafd",
   "metadata": {},
   "outputs": [
    {
     "name": "stdout",
     "output_type": "stream",
     "text": [
      "The element wise addition of matrix is : \n",
      "[[ 2  4]\n",
      " [ 8 10]]\n"
     ]
    }
   ],
   "source": [
    "x=np.array([[1,2],[4,5]])\n",
    "y=np.array([[1,2],[4,5]])\n",
    "print (\"The element wise addition of matrix is : \")\n",
    "print(np.add(x,y))"
   ]
  },
  {
   "cell_type": "code",
   "execution_count": 51,
   "id": "0491ce36",
   "metadata": {},
   "outputs": [
    {
     "name": "stdout",
     "output_type": "stream",
     "text": [
      "[[0 0]\n",
      " [0 0]]\n"
     ]
    }
   ],
   "source": [
    "print(np.subtract(x,y))"
   ]
  },
  {
   "cell_type": "code",
   "execution_count": 52,
   "id": "803fa0bb",
   "metadata": {},
   "outputs": [
    {
     "name": "stdout",
     "output_type": "stream",
     "text": [
      "[[1. 1.]\n",
      " [1. 1.]]\n"
     ]
    }
   ],
   "source": [
    "print(np.divide(x,y))"
   ]
  },
  {
   "cell_type": "code",
   "execution_count": 53,
   "id": "93e5ba91",
   "metadata": {},
   "outputs": [
    {
     "name": "stdout",
     "output_type": "stream",
     "text": [
      "[[ 1  4]\n",
      " [16 25]]\n"
     ]
    }
   ],
   "source": [
    "print(np.multiply(x,y))"
   ]
  },
  {
   "cell_type": "code",
   "execution_count": null,
   "id": "37e8e655",
   "metadata": {},
   "outputs": [],
   "source": []
  }
 ],
 "metadata": {
  "kernelspec": {
   "display_name": "Python 3 (ipykernel)",
   "language": "python",
   "name": "python3"
  },
  "language_info": {
   "codemirror_mode": {
    "name": "ipython",
    "version": 3
   },
   "file_extension": ".py",
   "mimetype": "text/x-python",
   "name": "python",
   "nbconvert_exporter": "python",
   "pygments_lexer": "ipython3",
   "version": "3.9.12"
  }
 },
 "nbformat": 4,
 "nbformat_minor": 5
}
